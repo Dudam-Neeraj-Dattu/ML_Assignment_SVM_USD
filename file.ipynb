{
 "cells": [
  {
   "cell_type": "code",
   "execution_count": 1,
   "metadata": {},
   "outputs": [],
   "source": [
    "from sklearn import datasets\n",
    "from sklearn.model_selection import train_test_split, KFold\n",
    "from sklearn.svm import SVC\n",
    "from sklearn.metrics import accuracy_score, precision_score, recall_score, f1_score"
   ]
  },
  {
   "cell_type": "code",
   "execution_count": 2,
   "metadata": {},
   "outputs": [],
   "source": [
    "# 1. Data Exploration and Preparation\n",
    "iris = datasets.load_iris()\n",
    "X = iris.data  # Features\n",
    "y = iris.target  # Target labels (species)\n",
    "\n",
    "# No missing values found in the Iris dataset"
   ]
  },
  {
   "cell_type": "code",
   "execution_count": 3,
   "metadata": {},
   "outputs": [],
   "source": [
    "# Scaling features (optional, but recommended for SVM)\n",
    "from sklearn.preprocessing import StandardScaler\n",
    "scaler = StandardScaler()\n",
    "X_scaled = scaler.fit_transform(X)\n",
    "\n",
    "# No categorical variables found in the Iris dataset"
   ]
  },
  {
   "cell_type": "code",
   "execution_count": 4,
   "metadata": {},
   "outputs": [
    {
     "name": "stdout",
     "output_type": "stream",
     "text": [
      "Trying different SVM kernel and C values:\n"
     ]
    }
   ],
   "source": [
    "# 2. SVM Implementation with Hyperparameter Tuning\n",
    "print(\"Trying different SVM kernel and C values:\")\n",
    "kernels = ['linear', 'rbf']\n",
    "C_values = [0.1, 1, 10]\n",
    "best_model = None\n",
    "best_accuracy = 0"
   ]
  },
  {
   "cell_type": "code",
   "execution_count": 5,
   "metadata": {},
   "outputs": [
    {
     "name": "stdout",
     "output_type": "stream",
     "text": [
      "Kernel: linear, C: 0.1, Average Accuracy: 0.9667\n",
      "Kernel: linear, C: 1, Average Accuracy: 0.9667\n",
      "Kernel: linear, C: 10, Average Accuracy: 0.9600\n",
      "Kernel: rbf, C: 0.1, Average Accuracy: 0.9200\n",
      "Kernel: rbf, C: 1, Average Accuracy: 0.9667\n",
      "Kernel: rbf, C: 10, Average Accuracy: 0.9533\n",
      "\n",
      "Best Model Configuration: Kernel: linear, C: 0.1, Average Accuracy: 0.9667\n"
     ]
    }
   ],
   "source": [
    "for kernel in kernels:\n",
    "    for C in C_values:\n",
    "        svm_model = SVC(kernel=kernel, C=C)\n",
    "        # 3. K-fold Cross-Validation (using 10 folds)\n",
    "        kfold = KFold(n_splits=10, shuffle=True)\n",
    "        accuracy_scores = []\n",
    "        for train_index, test_index in kfold.split(X_scaled):\n",
    "            X_train, X_test = X_scaled[train_index], X_scaled[test_index]\n",
    "            y_train, y_test = y[train_index], y[test_index]\n",
    "            svm_model.fit(X_train, y_train)\n",
    "            y_pred = svm_model.predict(X_test)\n",
    "            accuracy_scores.append(accuracy_score(y_test, y_pred))\n",
    "\n",
    "        # Calculate average accuracy across folds\n",
    "        avg_accuracy = sum(accuracy_scores) / len(accuracy_scores)\n",
    "        print(f\"Kernel: {kernel}, C: {C}, Average Accuracy: {avg_accuracy:.4f}\")\n",
    "\n",
    "        if avg_accuracy > best_accuracy:\n",
    "            best_model = svm_model\n",
    "            best_accuracy = avg_accuracy\n",
    "\n",
    "print(f\"\\nBest Model Configuration: Kernel: {best_model.kernel}, C: {best_model.C}, Average Accuracy: {best_accuracy:.4f}\")"
   ]
  },
  {
   "cell_type": "code",
   "execution_count": 6,
   "metadata": {},
   "outputs": [
    {
     "name": "stdout",
     "output_type": "stream",
     "text": [
      "\n",
      "Evaluation Metrics:\n",
      "Accuracy: 0.8333\n",
      "Precision (weighted): 0.8722\n",
      "Recall (weighted): 0.8333\n",
      "F1-score (weighted): 0.8407\n"
     ]
    }
   ],
   "source": [
    "# 4. Evaluation Metrics on Best Model\n",
    "X_train, X_test, y_train, y_test = train_test_split(X_scaled, y, test_size=0.2)\n",
    "best_model.fit(X_train, y_train)\n",
    "y_pred = best_model.predict(X_test)\n",
    "\n",
    "accuracy = accuracy_score(y_test, y_pred)\n",
    "precision = precision_score(y_test, y_pred, average='weighted')\n",
    "recall = recall_score(y_test, y_pred, average='weighted')\n",
    "f1 = f1_score(y_test, y_pred, average='weighted')\n",
    "\n",
    "print(\"\\nEvaluation Metrics:\")\n",
    "print(f\"Accuracy: {accuracy:.4f}\")\n",
    "print(f\"Precision (weighted): {precision:.4f}\")\n",
    "print(f\"Recall (weighted): {recall:.4f}\")\n",
    "print(f\"F1-score (weighted): {f1:.4f}\")"
   ]
  }
 ],
 "metadata": {
  "kernelspec": {
   "display_name": "Python 3",
   "language": "python",
   "name": "python3"
  },
  "language_info": {
   "codemirror_mode": {
    "name": "ipython",
    "version": 3
   },
   "file_extension": ".py",
   "mimetype": "text/x-python",
   "name": "python",
   "nbconvert_exporter": "python",
   "pygments_lexer": "ipython3",
   "version": "3.10.12"
  }
 },
 "nbformat": 4,
 "nbformat_minor": 2
}
